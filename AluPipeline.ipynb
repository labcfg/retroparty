{
 "cells": [
  {
   "cell_type": "markdown",
   "metadata": {
    "collapsed": true
   },
   "source": [
    "Trimming and mapping FASTQ\n",
    "==\n",
    "* * *"
   ]
  },
  {
   "cell_type": "markdown",
   "metadata": {
    "collapsed": true
   },
   "source": [
    "### 1. Raw FASTQ files preprocessing\n",
    "##### (Latest) library structure: [Alu primer - 12 bp][Alu sequence - 6 bp][Flank][Adapter1 - 10 bp][UMI, barcode - 9 bp][Adapter2 - 12 bp] #######\n",
    "##### Variable parameters:\n",
    "* MIST - max hamming (for primer and ads)\n",
    "* SHIFT - for search primer or ads\n",
    "* PRIMER - seq of primer\n",
    "* AD1 - seq of adapter1\n",
    "* AD2 - seq of adapter2\n",
    "* BLEN - len of UMI(barcode)\n",
    "* RESTRICT_SITE - 'AGCT' or 'CTAG'\n",
    "* R2_START - seq after adapters\n",
    "* CHAOS - mixed files\n",
    "* N_CORE - number of active cores\n",
    "##### Steps:\n",
    "* inputdir - folder with raw *.fastq.gz\n",
    "* separate reads into good and bad (fastq)\n",
    "    * by primer and ads\n",
    "    * by restrict_site\n",
    "    * by r2_start\n",
    "    * by primer and ads in flank\n",
    "* trimming primer, umi, ads but save info in header\n",
    "* save reason for bad (fastq) "
   ]
  },
  {
   "cell_type": "code",
   "execution_count": null,
   "metadata": {
    "collapsed": true
   },
   "outputs": [],
   "source": [
    "# All imports here, don't touch it unless you are a developer\n",
    "import imp\n",
    "import trimmALU\n",
    "imp.reload(trimmALU)\n",
    "\n",
    "# Variable parameters\n",
    "MIST = 1\n",
    "SHIFT = 4\n",
    "PRIMER = 'GAGCCACCGCGC'\n",
    "AD1 = 'GCGTGCTGCGG'\n",
    "AD2 = 'AGGGCGGT'\n",
    "BLEN = 9\n",
    "RESTRICT_SITE = 'AGCT'\n",
    "R2_START = 'CT'\n",
    "CHAOS = False\n",
    "N_CORE = 2\n",
    "\n",
    "# Input FASTQ files folder path\n",
    "INPUTDIR = '~/data'\n",
    "# Output folder for processed FASTQ files.\n",
    "OUTPUTDIR = '~/data_processed'\n",
    "\n",
    "tmp = trimmALU.main(inputdir = INPUTDIR,\n",
    "                    outputdir = OUTPUTDIR,\n",
    "                    primer = PRIMER,\n",
    "                    ad1 = AD1,\n",
    "                    ad2 = AD2,\n",
    "                    blen = BLEN,\n",
    "                    shift = SHIFT,\n",
    "                    mist = MIST,\n",
    "                    restrict_site = RESTRICT_SITE,\n",
    "                    r2_start = R2_START,\n",
    "                    chaos = CHAOS,\n",
    "                    n_core = N_CORE)"
   ]
  }
 ],
 "metadata": {
  "kernelspec": {
   "display_name": "Python 3",
   "language": "python",
   "name": "python3"
  },
  "language_info": {
   "codemirror_mode": {
    "name": "ipython",
    "version": 3
   },
   "file_extension": ".py",
   "mimetype": "text/x-python",
   "name": "python",
   "nbconvert_exporter": "python",
   "pygments_lexer": "ipython3",
   "version": "3.5.2"
  }
 },
 "nbformat": 4,
 "nbformat_minor": 0
}
